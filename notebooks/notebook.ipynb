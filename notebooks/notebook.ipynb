{
 "cells": [
  {
   "cell_type": "code",
   "execution_count": 5,
   "metadata": {},
   "outputs": [
    {
     "data": {
      "text/plain": [
       "7"
      ]
     },
     "execution_count": 5,
     "metadata": {},
     "output_type": "execute_result"
    }
   ],
   "source": [
    "3+4"
   ]
  },
  {
   "cell_type": "code",
   "execution_count": 7,
   "metadata": {},
   "outputs": [],
   "source": [
    "import pandas as pd"
   ]
  },
  {
   "cell_type": "code",
   "execution_count": 8,
   "metadata": {},
   "outputs": [],
   "source": [
    "data = {\n",
    "    \"Name\": [\n",
    "        \"Data Scientist\",\n",
    "        \"Data Analyst\",\n",
    "        \"Data Engineer\",\n",
    "        \"Machine Learning Engineer\",\n",
    "        \"Business Analyst\",\n",
    "        \"Data Scientist\",\n",
    "        \"Data Analyst\",\n",
    "        \"Data Engineer\",\n",
    "        \"Machine Learning Engineer\",\n",
    "        \"Business Analyst\",\n",
    "    ],\n",
    "    \"Age\": [25, 30, 35, 40, 45, 50, 55, 60, 65, 70],\n",
    "    \"City\": [\n",
    "        \"New York\",\n",
    "        \"Chicago\",\n",
    "        \"San Francisco\",\n",
    "        \"Los Angeles\",\n",
    "        \"Seattle\",\n",
    "        \"New York\",\n",
    "        \"Chicago\",\n",
    "        \"San Francisco\",\n",
    "        \"Los Angeles\",\n",
    "        \"Seattle\",\n",
    "    ],\n",
    "}"
   ]
  },
  {
   "cell_type": "code",
   "execution_count": 10,
   "metadata": {},
   "outputs": [],
   "source": [
    "df = pd.DataFrame(data)"
   ]
  }
 ],
 "metadata": {
  "kernelspec": {
   "display_name": ".venv",
   "language": "python",
   "name": "python3"
  },
  "language_info": {
   "codemirror_mode": {
    "name": "ipython",
    "version": 3
   },
   "file_extension": ".py",
   "mimetype": "text/x-python",
   "name": "python",
   "nbconvert_exporter": "python",
   "pygments_lexer": "ipython3",
   "version": "3.11.9"
  }
 },
 "nbformat": 4,
 "nbformat_minor": 2
}
